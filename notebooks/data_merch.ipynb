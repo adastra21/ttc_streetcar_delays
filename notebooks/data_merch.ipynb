{
 "cells": [
  {
   "cell_type": "code",
   "execution_count": 1,
   "metadata": {},
   "outputs": [],
   "source": [
    "import os\n",
    "import pandas as pd\n",
    "\n",
    "def merge_excel(folder_name):\n",
    "    # Get the absolute path of the folder\n",
    "    path = os.path.abspath(folder_name)\n",
    "    \n",
    "    # List all files in the folder\n",
    "    files = [os.path.join(path, f) for f in os.listdir(path) if f.endswith('.xlsx') or f.endswith('.xls')]\n",
    "    \n",
    "    # Create an empty DataFrame\n",
    "    merged_data = pd.DataFrame()\n",
    "    \n",
    "    # Loop through all files and sheets\n",
    "    for file in files:\n",
    "        excel_file = pd.ExcelFile(file)\n",
    "        for sheet_name in excel_file.sheet_names:\n",
    "            df = excel_file.parse(sheet_name=sheet_name)\n",
    "            merged_data = pd.concat([merged_data, df], ignore_index=True)\n",
    "    \n",
    "    # Save the merged data as a new Excel file in the same folder\n",
    "    output_file = os.path.join(path, 'merged_output.xlsx')\n",
    "    merged_data.to_excel(output_file, index=False)\n",
    "    \n",
    "    print(f\"Merged data has been saved to: {output_file}\")\n",
    "    \n",
    "    return merged_data\n"
   ]
  },
  {
   "cell_type": "code",
   "execution_count": 11,
   "metadata": {},
   "outputs": [
    {
     "name": "stdout",
     "output_type": "stream",
     "text": [
      "Merged data has been saved to: /Users/kamanddastmalchi/Documents/DSI-certificate/alltherep/ttc_streetcar_delays/data/merged_output.xlsx\n",
      "  Report Date  Route      Time     Day                              Location  \\\n",
      "0  2016-01-01  505.0  00:00:00  Friday     Dundas West stnt to Broadview stn   \n",
      "1  2016-01-01  511.0  02:14:00  Friday           Fleet St. and Strachan Ave.   \n",
      "2  2016-01-01  301.0  02:22:00  Friday  Queen St. West and Roncesvalles Ave.   \n",
      "3  2016-01-01  301.0  03:28:00  Friday     Lake Shore Blvd. and Superior St.   \n",
      "4  2016-01-01  501.0  14:28:00  Friday                 Roncy to Neville Park   \n",
      "\n",
      "        Incident  Min Delay  Min Gap Direction  Vehicle  Delay  Gap Date Line  \\\n",
      "0  General Delay        7.0     14.0       W/B   4028.0    NaN  NaN  NaT  NaN   \n",
      "1     Mechanical       10.0     20.0       E/B   4018.0    NaN  NaN  NaT  NaN   \n",
      "2     Mechanical        9.0     18.0       W/B   4201.0    NaN  NaN  NaT  NaN   \n",
      "3     Mechanical       20.0     40.0       E/B   4251.0    NaN  NaN  NaT  NaN   \n",
      "4     Mechanical        6.0     12.0       E/B   4242.0    NaN  NaN  NaT  NaN   \n",
      "\n",
      "  Bound  Incident ID  \n",
      "0   NaN          NaN  \n",
      "1   NaN          NaN  \n",
      "2   NaN          NaN  \n",
      "3   NaN          NaN  \n",
      "4   NaN          NaN  \n"
     ]
    }
   ],
   "source": [
    "# Specify the folder path containing Excel files\n",
    "folder_path = os.path.join(os.path.dirname(os.getcwd()), 'data')\n",
    "\n",
    "# Call the function\n",
    "merged_data = merge_excel(folder_path)\n",
    "\n",
    "# Preview the first few rows of the merged data (optional)\n",
    "print(merged_data.head())\n"
   ]
  }
 ],
 "metadata": {
  "kernelspec": {
   "display_name": "dsi_participant",
   "language": "python",
   "name": "python3"
  },
  "language_info": {
   "codemirror_mode": {
    "name": "ipython",
    "version": 3
   },
   "file_extension": ".py",
   "mimetype": "text/x-python",
   "name": "python",
   "nbconvert_exporter": "python",
   "pygments_lexer": "ipython3",
   "version": "3.9.19"
  }
 },
 "nbformat": 4,
 "nbformat_minor": 2
}
