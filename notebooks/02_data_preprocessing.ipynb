{
 "cells": [
  {
   "cell_type": "code",
   "execution_count": 1,
   "id": "cf217967",
   "metadata": {},
   "outputs": [],
   "source": [
    "import numpy as np\n",
    "import pandas as pd\n",
    "\n",
    "import seaborn as sns\n",
    "sns.set()"
   ]
  },
  {
   "cell_type": "code",
   "execution_count": 2,
   "id": "fa19d62c",
   "metadata": {
    "scrolled": true
   },
   "outputs": [],
   "source": [
    "df = pd.read_csv('../data/data_merged.csv', dtype={'route':str})"
   ]
  },
  {
   "cell_type": "code",
   "execution_count": 3,
   "id": "13ce7fe9",
   "metadata": {},
   "outputs": [
    {
     "data": {
      "text/plain": [
       "(144106, 11)"
      ]
     },
     "execution_count": 3,
     "metadata": {},
     "output_type": "execute_result"
    }
   ],
   "source": [
    "df.shape"
   ]
  },
  {
   "cell_type": "code",
   "execution_count": 4,
   "id": "65117508",
   "metadata": {},
   "outputs": [
    {
     "data": {
      "text/html": [
       "<div>\n",
       "<style scoped>\n",
       "    .dataframe tbody tr th:only-of-type {\n",
       "        vertical-align: middle;\n",
       "    }\n",
       "\n",
       "    .dataframe tbody tr th {\n",
       "        vertical-align: top;\n",
       "    }\n",
       "\n",
       "    .dataframe thead th {\n",
       "        text-align: right;\n",
       "    }\n",
       "</style>\n",
       "<table border=\"1\" class=\"dataframe\">\n",
       "  <thead>\n",
       "    <tr style=\"text-align: right;\">\n",
       "      <th></th>\n",
       "      <th>date</th>\n",
       "      <th>time</th>\n",
       "      <th>day</th>\n",
       "      <th>route</th>\n",
       "      <th>location</th>\n",
       "      <th>incident</th>\n",
       "      <th>delay</th>\n",
       "      <th>gap</th>\n",
       "      <th>direction</th>\n",
       "      <th>vehicle</th>\n",
       "      <th>incident id</th>\n",
       "    </tr>\n",
       "  </thead>\n",
       "  <tbody>\n",
       "    <tr>\n",
       "      <th>0</th>\n",
       "      <td>2014-01-02</td>\n",
       "      <td>06:31:00</td>\n",
       "      <td>Thursday</td>\n",
       "      <td>505.0</td>\n",
       "      <td>Dundas and Roncesvalles</td>\n",
       "      <td>Late Leaving Garage</td>\n",
       "      <td>4.0</td>\n",
       "      <td>8.0</td>\n",
       "      <td>E/B</td>\n",
       "      <td>4018.0</td>\n",
       "      <td>NaN</td>\n",
       "    </tr>\n",
       "    <tr>\n",
       "      <th>1</th>\n",
       "      <td>2014-01-02</td>\n",
       "      <td>12:43:00</td>\n",
       "      <td>Thursday</td>\n",
       "      <td>504.0</td>\n",
       "      <td>King and Shaw</td>\n",
       "      <td>Utilized Off Route</td>\n",
       "      <td>20.0</td>\n",
       "      <td>22.0</td>\n",
       "      <td>E/B</td>\n",
       "      <td>4128.0</td>\n",
       "      <td>NaN</td>\n",
       "    </tr>\n",
       "    <tr>\n",
       "      <th>2</th>\n",
       "      <td>2014-01-02</td>\n",
       "      <td>14:01:00</td>\n",
       "      <td>Thursday</td>\n",
       "      <td>501.0</td>\n",
       "      <td>Kingston road and Bingham</td>\n",
       "      <td>Held By</td>\n",
       "      <td>13.0</td>\n",
       "      <td>19.0</td>\n",
       "      <td>W/B</td>\n",
       "      <td>4016.0</td>\n",
       "      <td>NaN</td>\n",
       "    </tr>\n",
       "    <tr>\n",
       "      <th>3</th>\n",
       "      <td>2014-01-02</td>\n",
       "      <td>14:22:00</td>\n",
       "      <td>Thursday</td>\n",
       "      <td>504.0</td>\n",
       "      <td>King St. and Roncesvalles Ave.</td>\n",
       "      <td>Investigation</td>\n",
       "      <td>7.0</td>\n",
       "      <td>11.0</td>\n",
       "      <td>W/B</td>\n",
       "      <td>4175.0</td>\n",
       "      <td>NaN</td>\n",
       "    </tr>\n",
       "    <tr>\n",
       "      <th>4</th>\n",
       "      <td>2014-01-02</td>\n",
       "      <td>16:42:00</td>\n",
       "      <td>Thursday</td>\n",
       "      <td>504.0</td>\n",
       "      <td>King and Bathurst</td>\n",
       "      <td>Utilized Off Route</td>\n",
       "      <td>3.0</td>\n",
       "      <td>6.0</td>\n",
       "      <td>E/B</td>\n",
       "      <td>4080.0</td>\n",
       "      <td>NaN</td>\n",
       "    </tr>\n",
       "    <tr>\n",
       "      <th>5</th>\n",
       "      <td>2014-01-02</td>\n",
       "      <td>17:39:00</td>\n",
       "      <td>Thursday</td>\n",
       "      <td>501.0</td>\n",
       "      <td>Queen and Beaconsfeild</td>\n",
       "      <td>Held By</td>\n",
       "      <td>7.0</td>\n",
       "      <td>13.0</td>\n",
       "      <td>W/B</td>\n",
       "      <td>4202.0</td>\n",
       "      <td>NaN</td>\n",
       "    </tr>\n",
       "    <tr>\n",
       "      <th>6</th>\n",
       "      <td>2014-01-02</td>\n",
       "      <td>18:38:00</td>\n",
       "      <td>Thursday</td>\n",
       "      <td>504.0</td>\n",
       "      <td>Roncesvalles and King Street West</td>\n",
       "      <td>Utilized Off Route</td>\n",
       "      <td>4.0</td>\n",
       "      <td>7.0</td>\n",
       "      <td>E/B</td>\n",
       "      <td>4100.0</td>\n",
       "      <td>NaN</td>\n",
       "    </tr>\n",
       "    <tr>\n",
       "      <th>7</th>\n",
       "      <td>2014-01-02</td>\n",
       "      <td>19:27:00</td>\n",
       "      <td>Thursday</td>\n",
       "      <td>510.0</td>\n",
       "      <td>Spadina and St. Andrews</td>\n",
       "      <td>Investigation</td>\n",
       "      <td>20.0</td>\n",
       "      <td>22.0</td>\n",
       "      <td>S/B</td>\n",
       "      <td>4123.0</td>\n",
       "      <td>NaN</td>\n",
       "    </tr>\n",
       "    <tr>\n",
       "      <th>8</th>\n",
       "      <td>2014-01-03</td>\n",
       "      <td>01:00:00</td>\n",
       "      <td>Friday</td>\n",
       "      <td>504.0</td>\n",
       "      <td>Broadview and Queen</td>\n",
       "      <td>Utilized Off Route</td>\n",
       "      <td>7.0</td>\n",
       "      <td>14.0</td>\n",
       "      <td>W/B</td>\n",
       "      <td>4079.0</td>\n",
       "      <td>NaN</td>\n",
       "    </tr>\n",
       "    <tr>\n",
       "      <th>9</th>\n",
       "      <td>2014-01-03</td>\n",
       "      <td>05:09:00</td>\n",
       "      <td>Friday</td>\n",
       "      <td>512.0</td>\n",
       "      <td>Bathurst and St. Clair</td>\n",
       "      <td>Mechanical</td>\n",
       "      <td>3.0</td>\n",
       "      <td>6.0</td>\n",
       "      <td>E/B</td>\n",
       "      <td>4160.0</td>\n",
       "      <td>NaN</td>\n",
       "    </tr>\n",
       "  </tbody>\n",
       "</table>\n",
       "</div>"
      ],
      "text/plain": [
       "         date      time       day  route                           location  \\\n",
       "0  2014-01-02  06:31:00  Thursday  505.0            Dundas and Roncesvalles   \n",
       "1  2014-01-02  12:43:00  Thursday  504.0                      King and Shaw   \n",
       "2  2014-01-02  14:01:00  Thursday  501.0          Kingston road and Bingham   \n",
       "3  2014-01-02  14:22:00  Thursday  504.0     King St. and Roncesvalles Ave.   \n",
       "4  2014-01-02  16:42:00  Thursday  504.0                  King and Bathurst   \n",
       "5  2014-01-02  17:39:00  Thursday  501.0             Queen and Beaconsfeild   \n",
       "6  2014-01-02  18:38:00  Thursday  504.0  Roncesvalles and King Street West   \n",
       "7  2014-01-02  19:27:00  Thursday  510.0            Spadina and St. Andrews   \n",
       "8  2014-01-03  01:00:00    Friday  504.0                Broadview and Queen   \n",
       "9  2014-01-03  05:09:00    Friday  512.0             Bathurst and St. Clair   \n",
       "\n",
       "              incident  delay   gap direction  vehicle  incident id  \n",
       "0  Late Leaving Garage    4.0   8.0       E/B   4018.0          NaN  \n",
       "1   Utilized Off Route   20.0  22.0       E/B   4128.0          NaN  \n",
       "2              Held By   13.0  19.0       W/B   4016.0          NaN  \n",
       "3        Investigation    7.0  11.0       W/B   4175.0          NaN  \n",
       "4   Utilized Off Route    3.0   6.0       E/B   4080.0          NaN  \n",
       "5              Held By    7.0  13.0       W/B   4202.0          NaN  \n",
       "6   Utilized Off Route    4.0   7.0       E/B   4100.0          NaN  \n",
       "7        Investigation   20.0  22.0       S/B   4123.0          NaN  \n",
       "8   Utilized Off Route    7.0  14.0       W/B   4079.0          NaN  \n",
       "9           Mechanical    3.0   6.0       E/B   4160.0          NaN  "
      ]
     },
     "execution_count": 4,
     "metadata": {},
     "output_type": "execute_result"
    }
   ],
   "source": [
    "df.head(10)"
   ]
  },
  {
   "cell_type": "code",
   "execution_count": 5,
   "id": "80b36bd7",
   "metadata": {},
   "outputs": [
    {
     "data": {
      "text/plain": [
       "date            object\n",
       "time            object\n",
       "day             object\n",
       "route           object\n",
       "location        object\n",
       "incident        object\n",
       "delay          float64\n",
       "gap            float64\n",
       "direction       object\n",
       "vehicle        float64\n",
       "incident id    float64\n",
       "dtype: object"
      ]
     },
     "execution_count": 5,
     "metadata": {},
     "output_type": "execute_result"
    }
   ],
   "source": [
    "df.dtypes"
   ]
  },
  {
   "cell_type": "code",
   "execution_count": 6,
   "id": "cdc43cad",
   "metadata": {},
   "outputs": [
    {
     "data": {
      "text/plain": [
       "date                0\n",
       "time                0\n",
       "day                 0\n",
       "incident            1\n",
       "delay              79\n",
       "gap               121\n",
       "location          264\n",
       "route             417\n",
       "vehicle          4685\n",
       "direction       10355\n",
       "incident id    143217\n",
       "dtype: int64"
      ]
     },
     "execution_count": 6,
     "metadata": {},
     "output_type": "execute_result"
    }
   ],
   "source": [
    "df.isna().sum().sort_values()"
   ]
  },
  {
   "cell_type": "markdown",
   "id": "1b572f10",
   "metadata": {},
   "source": [
    "## Investigate missing values"
   ]
  },
  {
   "cell_type": "code",
   "execution_count": 7,
   "id": "f8c949d0",
   "metadata": {},
   "outputs": [
    {
     "data": {
      "text/plain": [
       "date             0\n",
       "time             0\n",
       "day              0\n",
       "route            0\n",
       "incident         0\n",
       "location         3\n",
       "direction        6\n",
       "vehicle         17\n",
       "delay           63\n",
       "incident id    119\n",
       "gap            121\n",
       "dtype: int64"
      ]
     },
     "execution_count": 7,
     "metadata": {},
     "output_type": "execute_result"
    }
   ],
   "source": [
    "# 63/79 missing delays are covered\n",
    "df[df['gap'].isna()].isna().sum().sort_values()"
   ]
  },
  {
   "cell_type": "code",
   "execution_count": 8,
   "id": "20133ea2",
   "metadata": {},
   "outputs": [
    {
     "data": {
      "text/plain": [
       "date            0\n",
       "time            0\n",
       "day             0\n",
       "route           0\n",
       "incident        0\n",
       "location        3\n",
       "direction       5\n",
       "vehicle        17\n",
       "gap            63\n",
       "delay          79\n",
       "incident id    79\n",
       "dtype: int64"
      ]
     },
     "execution_count": 8,
     "metadata": {},
     "output_type": "execute_result"
    }
   ],
   "source": [
    "# 63/121 missing gaps are covered\n",
    "df[df['delay'].isna()].isna().sum().sort_values()"
   ]
  },
  {
   "cell_type": "markdown",
   "id": "b92f1cc0",
   "metadata": {},
   "source": [
    "### Drop missing values"
   ]
  },
  {
   "cell_type": "code",
   "execution_count": 9,
   "id": "9fffee16",
   "metadata": {},
   "outputs": [],
   "source": [
    "# drop incident without reason\n",
    "df = df[~df['incident'].isna()].copy()"
   ]
  },
  {
   "cell_type": "code",
   "execution_count": 10,
   "id": "4b47f401",
   "metadata": {
    "scrolled": true
   },
   "outputs": [],
   "source": [
    "# drop missing delays\n",
    "df = df[~df['delay'].isna()].copy()\n",
    "# drop missing gaps\n",
    "df = df[~df['gap'].isna()].copy()"
   ]
  },
  {
   "cell_type": "code",
   "execution_count": 11,
   "id": "717636d5",
   "metadata": {},
   "outputs": [
    {
     "data": {
      "text/plain": [
       "(143968, 11)"
      ]
     },
     "execution_count": 11,
     "metadata": {},
     "output_type": "execute_result"
    }
   ],
   "source": [
    "df.shape"
   ]
  },
  {
   "cell_type": "markdown",
   "id": "9d6f4239",
   "metadata": {},
   "source": [
    "### Drop irrelevant cols"
   ]
  },
  {
   "cell_type": "code",
   "execution_count": 12,
   "id": "73f76660",
   "metadata": {},
   "outputs": [
    {
     "data": {
      "text/plain": [
       "887"
      ]
     },
     "execution_count": 12,
     "metadata": {},
     "output_type": "execute_result"
    }
   ],
   "source": [
    "df['incident id'].notna().sum()"
   ]
  },
  {
   "cell_type": "code",
   "execution_count": 13,
   "id": "d9c793a3",
   "metadata": {},
   "outputs": [
    {
     "data": {
      "text/plain": [
       "incident id\n",
       "1.0     399\n",
       "5.0     163\n",
       "8.0     102\n",
       "7.0      97\n",
       "6.0      61\n",
       "4.0      22\n",
       "9.0      21\n",
       "3.0      16\n",
       "10.0      6\n",
       "Name: count, dtype: int64"
      ]
     },
     "execution_count": 13,
     "metadata": {},
     "output_type": "execute_result"
    }
   ],
   "source": [
    "df['incident id'].value_counts()"
   ]
  },
  {
   "cell_type": "code",
   "execution_count": 14,
   "id": "bd0f2284",
   "metadata": {},
   "outputs": [],
   "source": [
    "df.drop(columns={'incident id'},inplace=True)"
   ]
  },
  {
   "cell_type": "markdown",
   "id": "45e1a310",
   "metadata": {},
   "source": [
    "## Standardize cols"
   ]
  },
  {
   "cell_type": "markdown",
   "id": "3901e594",
   "metadata": {},
   "source": [
    "### Create datetime for same-day analysis"
   ]
  },
  {
   "cell_type": "code",
   "execution_count": 15,
   "id": "a06d93e4",
   "metadata": {},
   "outputs": [],
   "source": [
    "df['date'] = pd.to_datetime(df['date'])"
   ]
  },
  {
   "cell_type": "code",
   "execution_count": 16,
   "id": "710fa11e",
   "metadata": {
    "scrolled": true
   },
   "outputs": [],
   "source": [
    "df['datetime'] = df['date'].astype(str)+\" \"+df['time']"
   ]
  },
  {
   "cell_type": "code",
   "execution_count": 17,
   "id": "29471cf9",
   "metadata": {},
   "outputs": [],
   "source": [
    "df['datetime__len'] = df['datetime'].apply(len)"
   ]
  },
  {
   "cell_type": "code",
   "execution_count": 18,
   "id": "64e5ea64",
   "metadata": {},
   "outputs": [
    {
     "data": {
      "text/plain": [
       "datetime__len\n",
       "19    82557\n",
       "16    61405\n",
       "30        6\n",
       "Name: count, dtype: int64"
      ]
     },
     "execution_count": 18,
     "metadata": {},
     "output_type": "execute_result"
    }
   ],
   "source": [
    "df['datetime__len'].value_counts()"
   ]
  },
  {
   "cell_type": "code",
   "execution_count": 19,
   "id": "014cea8b",
   "metadata": {},
   "outputs": [],
   "source": [
    "df['dt'] = np.where(df['datetime__len']==19,df['datetime'],np.nan)"
   ]
  },
  {
   "cell_type": "code",
   "execution_count": 20,
   "id": "a66fad5f",
   "metadata": {
    "scrolled": true
   },
   "outputs": [],
   "source": [
    "# add missing seconds\n",
    "df['dt'] = np.where(df['datetime__len']==16,df['datetime']+':00',df['dt'])"
   ]
  },
  {
   "cell_type": "code",
   "execution_count": 21,
   "id": "252117ea",
   "metadata": {},
   "outputs": [],
   "source": [
    "# ignore duplicate dates\n",
    "df['dt'] = np.where(df['datetime__len']==30,df['time'],df['dt'])"
   ]
  },
  {
   "cell_type": "code",
   "execution_count": 22,
   "id": "31f3f1c4",
   "metadata": {
    "scrolled": true
   },
   "outputs": [],
   "source": [
    "df['dt'] = pd.to_datetime(df['dt'])"
   ]
  },
  {
   "cell_type": "code",
   "execution_count": 23,
   "id": "a096d378",
   "metadata": {},
   "outputs": [],
   "source": [
    "df.drop(columns={'datetime','datetime__len'},inplace=True)"
   ]
  },
  {
   "cell_type": "markdown",
   "id": "617971be",
   "metadata": {},
   "source": [
    "### Fix Vehicle"
   ]
  },
  {
   "cell_type": "code",
   "execution_count": 24,
   "id": "ce0d0619",
   "metadata": {},
   "outputs": [],
   "source": [
    "df['vehicle'] = df['vehicle'].apply(lambda x: str(x).replace('.0',''))"
   ]
  },
  {
   "cell_type": "code",
   "execution_count": 25,
   "id": "591c050d",
   "metadata": {},
   "outputs": [],
   "source": [
    "df['vehicle'] = np.where(df['vehicle']=='nan',np.nan,df['vehicle'])"
   ]
  },
  {
   "cell_type": "markdown",
   "id": "7e3d2a3e",
   "metadata": {},
   "source": [
    "### Fix Route"
   ]
  },
  {
   "cell_type": "code",
   "execution_count": 26,
   "id": "24e07014",
   "metadata": {
    "scrolled": true
   },
   "outputs": [],
   "source": [
    "df['route'] = df['route'].apply(lambda x: str(x).replace('.0',''))"
   ]
  },
  {
   "cell_type": "code",
   "execution_count": 27,
   "id": "78158602",
   "metadata": {},
   "outputs": [],
   "source": [
    "df['route'] = np.where(df['route']=='nan',np.nan,df['route'])"
   ]
  },
  {
   "cell_type": "code",
   "execution_count": 28,
   "id": "dcc5c200",
   "metadata": {},
   "outputs": [
    {
     "data": {
      "text/plain": [
       "Series([], Name: count, dtype: int64)"
      ]
     },
     "execution_count": 28,
     "metadata": {},
     "output_type": "execute_result"
    }
   ],
   "source": [
    "df[df['route'].isna()]['route'].value_counts()"
   ]
  },
  {
   "cell_type": "code",
   "execution_count": 29,
   "id": "52673e36",
   "metadata": {
    "scrolled": true
   },
   "outputs": [
    {
     "data": {
      "text/plain": [
       "route\n",
       "501    25.0\n",
       "504    18.5\n",
       "506    13.3\n",
       "505    11.7\n",
       "510     7.9\n",
       "512     7.1\n",
       "511     5.1\n",
       "509     3.4\n",
       "503     2.3\n",
       "301     1.1\n",
       "Name: proportion, dtype: float64"
      ]
     },
     "execution_count": 29,
     "metadata": {},
     "output_type": "execute_result"
    }
   ],
   "source": [
    "round(df['route'].value_counts(normalize=True)[:10]*100,1)"
   ]
  },
  {
   "cell_type": "markdown",
   "id": "97416467",
   "metadata": {},
   "source": [
    "### Direction"
   ]
  },
  {
   "cell_type": "code",
   "execution_count": 30,
   "id": "e7a52d09",
   "metadata": {},
   "outputs": [
    {
     "data": {
      "text/plain": [
       "107"
      ]
     },
     "execution_count": 30,
     "metadata": {},
     "output_type": "execute_result"
    }
   ],
   "source": [
    "df['direction'].nunique()"
   ]
  },
  {
   "cell_type": "code",
   "execution_count": 31,
   "id": "25008c90",
   "metadata": {},
   "outputs": [],
   "source": [
    "df['direction'] = df['direction'].str.lower()"
   ]
  },
  {
   "cell_type": "code",
   "execution_count": 32,
   "id": "20b5f14b",
   "metadata": {},
   "outputs": [],
   "source": [
    "df['direction'] = df['direction'].str.strip()"
   ]
  },
  {
   "cell_type": "code",
   "execution_count": 33,
   "id": "f7a138f9",
   "metadata": {
    "scrolled": true
   },
   "outputs": [
    {
     "data": {
      "text/plain": [
       "array(['e/b', 'w/b', 's/b', 'n/b', 'eb', 'wb', 'b/w', 'bw', 's', 'nb',\n",
       "       'ew', 'eastbound', 'w', 'sb', 'southbound', 'northbound',\n",
       "       'service adjusted.', 'westbound', nan, 'b#', 'we', 'e',\n",
       "       'service adjusted', '14', '5', '0', 'sw', '2', '506', '54495',\n",
       "       '4075', '12', 'bs', 'wruiter adv', '(ref', '9', 'gap', '1114',\n",
       "       'run', 'ss', '19', '5                       w/b', '68029', 'eb``',\n",
       "       '6', '512', 'w`', '\\\\5', '10', '4', '7', '13', '-bd#', '30', '`',\n",
       "       '510', 'w.b', '\\\\', '26', 'w\\\\b', 'n', '20', '8', 'ee', '.',\n",
       "       'see also', 'e5', 'relief operator. ga', '18', '15', 'e/b w/b',\n",
       "       '33', 'e/w', 'eb/wb', 'n/s', 's/n', '-', '31087', 'nbn', 'wn', '3',\n",
       "       'r', 'btw', 'b', 'c', 'q', 'u', 't', '1'], dtype=object)"
      ]
     },
     "execution_count": 33,
     "metadata": {},
     "output_type": "execute_result"
    }
   ],
   "source": [
    "df['direction'].unique()"
   ]
  },
  {
   "cell_type": "code",
   "execution_count": 34,
   "id": "5fd29883",
   "metadata": {},
   "outputs": [],
   "source": [
    "from string import punctuation\n",
    "\n",
    "# remove puncutation\n",
    "df['direction'] = df['direction'].str.replace(rf'[{punctuation}]', '', regex=True)\n",
    "df['direction'] = df['direction'].str.replace('\\\\','')"
   ]
  },
  {
   "cell_type": "code",
   "execution_count": 35,
   "id": "5659c779",
   "metadata": {},
   "outputs": [],
   "source": [
    "df['direction'] = df['direction'].str.replace('eastbound','eb').str.replace('westbound','wb').str.replace('southbound','sb').str.replace('northbound','nb')"
   ]
  },
  {
   "cell_type": "code",
   "execution_count": 36,
   "id": "7fb878c0",
   "metadata": {},
   "outputs": [],
   "source": [
    "df['direction'] = df['direction'].str.replace('bw','b')"
   ]
  },
  {
   "cell_type": "code",
   "execution_count": 37,
   "id": "8427d3c4",
   "metadata": {},
   "outputs": [],
   "source": [
    "pd.set_option('display.min_rows',300)"
   ]
  },
  {
   "cell_type": "code",
   "execution_count": 38,
   "id": "f994a4b5",
   "metadata": {
    "scrolled": true
   },
   "outputs": [],
   "source": [
    "df['direction'] = df['direction'].str.replace(r'\\d+','', regex=True)"
   ]
  },
  {
   "cell_type": "code",
   "execution_count": 39,
   "id": "313485bb",
   "metadata": {
    "scrolled": true
   },
   "outputs": [],
   "source": [
    "df['direction__len'] = df['direction'].astype(str).apply(len)"
   ]
  },
  {
   "cell_type": "code",
   "execution_count": 40,
   "id": "6d3a016e",
   "metadata": {},
   "outputs": [],
   "source": [
    "# filter all directions greater than 2char\n",
    "df['direction'] = np.where(df['direction__len']>2,np.nan,df['direction'])"
   ]
  },
  {
   "cell_type": "code",
   "execution_count": 41,
   "id": "3bfc76a3",
   "metadata": {},
   "outputs": [],
   "source": [
    "df['direction'] = np.where(df['direction'].str.contains('nb|sb|eb|wb|n|s|e|w|ew|sw|ne|se|nw|se',regex=True),df['direction'],np.nan)"
   ]
  },
  {
   "cell_type": "code",
   "execution_count": 42,
   "id": "a3637fa6",
   "metadata": {},
   "outputs": [],
   "source": [
    "unpopular_directions = df['direction'].value_counts()[-9:].reset_index()['direction'].tolist()"
   ]
  },
  {
   "cell_type": "code",
   "execution_count": 43,
   "id": "0f8709c0",
   "metadata": {},
   "outputs": [],
   "source": [
    "df['direction'] = np.where(df['direction'].isin(unpopular_directions),np.nan,df['direction'])"
   ]
  },
  {
   "cell_type": "code",
   "execution_count": 44,
   "id": "296d913c",
   "metadata": {},
   "outputs": [],
   "source": [
    "df['direction'] = df['direction'].str.upper()"
   ]
  },
  {
   "cell_type": "code",
   "execution_count": 45,
   "id": "b6967a8c",
   "metadata": {},
   "outputs": [
    {
     "data": {
      "text/plain": [
       "direction\n",
       "WB    32768\n",
       "EB    31993\n",
       "W     19521\n",
       "E     19346\n",
       "S      6401\n",
       "NB     6101\n",
       "SB     5926\n",
       "N      5891\n",
       "Name: count, dtype: int64"
      ]
     },
     "execution_count": 45,
     "metadata": {},
     "output_type": "execute_result"
    }
   ],
   "source": [
    "df['direction'].value_counts()"
   ]
  },
  {
   "cell_type": "code",
   "execution_count": 46,
   "id": "dbb429c7",
   "metadata": {},
   "outputs": [],
   "source": [
    "def direction_simplifier(direction):\n",
    "    if 'NB' in direction or 'NORTH' in direction or 'N\\B' in direction or 'N' in direction:\n",
    "        return 'N'\n",
    "    elif 'SB' in direction or 'SOUTH' in direction or 'S\\B' in direction or 'S' in direction:\n",
    "        return 'S'\n",
    "    elif 'EB' in direction or 'EAST' in direction or 'E\\B' in direction or 'E' in direction:\n",
    "        return 'E'\n",
    "    elif 'WB' in direction or 'WEST' in direction or 'W\\B' in direction or 'W' in direction:\n",
    "        return 'W'\n",
    "    elif 'BW' in direction or 'BWS' in direction or 'BOTH WAYS' in direction or 'BOTHWAY' in direction or 'BWAYS' in direction or 'B' in direction:\n",
    "        return 'B'\n",
    "    else:\n",
    "        'NaN'"
   ]
  },
  {
   "cell_type": "code",
   "execution_count": 47,
   "id": "58588d97",
   "metadata": {},
   "outputs": [],
   "source": [
    "df['direction'] = df['direction'].astype(str)"
   ]
  },
  {
   "cell_type": "code",
   "execution_count": 48,
   "id": "aec0fbfd",
   "metadata": {
    "scrolled": true
   },
   "outputs": [],
   "source": [
    "df['direction'] = df['direction'].apply(direction_simplifier)"
   ]
  },
  {
   "cell_type": "code",
   "execution_count": 49,
   "id": "5ba8ca85",
   "metadata": {},
   "outputs": [],
   "source": [
    "df.drop(columns={'direction__len'},inplace=True)"
   ]
  },
  {
   "cell_type": "markdown",
   "id": "b3407f70",
   "metadata": {},
   "source": [
    "### Delay"
   ]
  },
  {
   "cell_type": "code",
   "execution_count": 50,
   "id": "fd827b47",
   "metadata": {},
   "outputs": [
    {
     "data": {
      "text/plain": [
       "count    143968.000000\n",
       "mean         13.574218\n",
       "std          32.561074\n",
       "min           0.000000\n",
       "25%           5.000000\n",
       "50%           8.000000\n",
       "75%          10.000000\n",
       "max        1400.000000\n",
       "Name: delay, dtype: float64"
      ]
     },
     "execution_count": 50,
     "metadata": {},
     "output_type": "execute_result"
    }
   ],
   "source": [
    "df['delay'].describe()"
   ]
  },
  {
   "cell_type": "code",
   "execution_count": 51,
   "id": "1fa244e9",
   "metadata": {},
   "outputs": [
    {
     "data": {
      "text/plain": [
       "(7128, 11)"
      ]
     },
     "execution_count": 51,
     "metadata": {},
     "output_type": "execute_result"
    }
   ],
   "source": [
    "df[df['delay']==0].shape"
   ]
  },
  {
   "cell_type": "markdown",
   "id": "6afc0522",
   "metadata": {},
   "source": [
    "### Gap"
   ]
  },
  {
   "cell_type": "code",
   "execution_count": 52,
   "id": "b9fd31dc",
   "metadata": {},
   "outputs": [
    {
     "data": {
      "text/plain": [
       "count    143968.000000\n",
       "mean         19.963909\n",
       "std          34.990974\n",
       "min           0.000000\n",
       "25%          10.000000\n",
       "50%          15.000000\n",
       "75%          20.000000\n",
       "max        4216.000000\n",
       "Name: gap, dtype: float64"
      ]
     },
     "execution_count": 52,
     "metadata": {},
     "output_type": "execute_result"
    }
   ],
   "source": [
    "df['gap'].describe()"
   ]
  },
  {
   "cell_type": "code",
   "execution_count": 53,
   "id": "14a550f4",
   "metadata": {},
   "outputs": [
    {
     "data": {
      "text/plain": [
       "(7839, 11)"
      ]
     },
     "execution_count": 53,
     "metadata": {},
     "output_type": "execute_result"
    }
   ],
   "source": [
    "df[df['gap']==0].shape"
   ]
  },
  {
   "cell_type": "markdown",
   "id": "f7ec7491",
   "metadata": {},
   "source": [
    "### Location"
   ]
  },
  {
   "cell_type": "code",
   "execution_count": 54,
   "id": "e3bd615a",
   "metadata": {},
   "outputs": [],
   "source": [
    "pd.set_option('display.min_rows',200)"
   ]
  },
  {
   "cell_type": "code",
   "execution_count": 55,
   "id": "666c37e0",
   "metadata": {},
   "outputs": [],
   "source": [
    "df['location'] = df['location'].str.lower()"
   ]
  },
  {
   "cell_type": "code",
   "execution_count": 56,
   "id": "acafd9ea",
   "metadata": {},
   "outputs": [
    {
     "data": {
      "text/plain": [
       "19183"
      ]
     },
     "execution_count": 56,
     "metadata": {},
     "output_type": "execute_result"
    }
   ],
   "source": [
    "df['location'].nunique()"
   ]
  },
  {
   "cell_type": "code",
   "execution_count": 57,
   "id": "b4bbd06f",
   "metadata": {},
   "outputs": [],
   "source": [
    "df['location'] = df['location'].str.strip().str.replace(rf'[{punctuation}]', '', regex=True)"
   ]
  },
  {
   "cell_type": "markdown",
   "id": "1a52815d",
   "metadata": {},
   "source": [
    "## Export"
   ]
  },
  {
   "cell_type": "code",
   "execution_count": 68,
   "id": "13e3b332",
   "metadata": {},
   "outputs": [
    {
     "data": {
      "text/plain": [
       "(143968, 11)"
      ]
     },
     "execution_count": 68,
     "metadata": {},
     "output_type": "execute_result"
    }
   ],
   "source": [
    "df.shape"
   ]
  },
  {
   "cell_type": "code",
   "execution_count": 67,
   "id": "79ea5751",
   "metadata": {},
   "outputs": [],
   "source": [
    "df = df[['dt','date','time','day','route','location','incident','delay','gap','direction','vehicle']].copy()"
   ]
  },
  {
   "cell_type": "code",
   "execution_count": 69,
   "id": "7f3b15f1",
   "metadata": {},
   "outputs": [],
   "source": [
    "df.to_csv('../data/data_cleaned.csv', index=None)"
   ]
  },
  {
   "cell_type": "code",
   "execution_count": null,
   "id": "9a061323",
   "metadata": {},
   "outputs": [],
   "source": []
  }
 ],
 "metadata": {
  "kernelspec": {
   "display_name": "Python 3 (ipykernel)",
   "language": "python",
   "name": "python3"
  },
  "language_info": {
   "codemirror_mode": {
    "name": "ipython",
    "version": 3
   },
   "file_extension": ".py",
   "mimetype": "text/x-python",
   "name": "python",
   "nbconvert_exporter": "python",
   "pygments_lexer": "ipython3",
   "version": "3.9.16"
  }
 },
 "nbformat": 4,
 "nbformat_minor": 5
}
