{
 "cells": [
  {
   "cell_type": "code",
   "execution_count": 1,
   "metadata": {},
   "outputs": [],
   "source": [
    "import os\n",
    "import os.path as op\n",
    "\n",
    "import numpy as np\n",
    "import pandas as pd"
   ]
  },
  {
   "cell_type": "code",
   "execution_count": 2,
   "metadata": {},
   "outputs": [],
   "source": [
    "def merge_excel():\n",
    "    path = os.path.join(os.path.dirname(os.getcwd()), 'data')\n",
    "    file_list = [op.join(path,file) for file in os.listdir(path) if file.endswith('.xlsx')]\n",
    "    file_list.sort()\n",
    "    \n",
    "    df_total = pd.DataFrame()\n",
    "\n",
    "    for file in file_list:\n",
    "        print('Processing %s' %file.split('/')[-1])\n",
    "        excel_file = pd.ExcelFile(file)\n",
    "        sheets = excel_file.sheet_names\n",
    "        for sheet in sheets:\n",
    "            # print('Processing %s' %sheet)\n",
    "            df = excel_file.parse(sheet_name = sheet, na_values='')\n",
    "            df_total = pd.concat([df_total,df])\n",
    "            print(df_total.shape)\n",
    "\n",
    "    df_total.columns = df_total.columns.str.lower()\n",
    "    df_total['date'] = np.where(df_total['report date'].isna(),df_total['date'],df_total['report date'])\n",
    "    df_total['route'] = np.where(df_total['route'].isna(), df_total['line'], df_total['route'])\n",
    "    df_total['gap'] = np.where(df_total['min gap'].isna(), df_total['gap'], df_total['min gap'])\n",
    "    df_total['delay'] = np.where(df_total['min delay'].isna(), df_total['delay'], df_total['min delay'])\n",
    "    df_total['direction'] = np.where(df_total['direction'].isna(), df_total['bound'], df_total['direction'])\n",
    "\n",
    "    df_total = df_total[['date','time', 'day','route','location','incident', 'delay','gap',\n",
    "                         'direction', 'vehicle', 'incident id']].copy()\n",
    "    \n",
    "    df_total.to_csv('../data/data_merged.csv', index=None)\n",
    "    "
   ]
  },
  {
   "cell_type": "code",
   "execution_count": 3,
   "metadata": {},
   "outputs": [],
   "source": [
    "# merge_excel()"
   ]
  }
 ],
 "metadata": {
  "kernelspec": {
   "display_name": "Python 3 (ipykernel)",
   "language": "python",
   "name": "python3"
  },
  "language_info": {
   "codemirror_mode": {
    "name": "ipython",
    "version": 3
   },
   "file_extension": ".py",
   "mimetype": "text/x-python",
   "name": "python",
   "nbconvert_exporter": "python",
   "pygments_lexer": "ipython3",
   "version": "3.9.13"
  }
 },
 "nbformat": 4,
 "nbformat_minor": 2
}
