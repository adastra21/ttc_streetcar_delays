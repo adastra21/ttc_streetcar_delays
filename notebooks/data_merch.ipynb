{
 "cells": [
  {
   "cell_type": "code",
   "execution_count": 1,
   "metadata": {},
   "outputs": [],
   "source": [
    "import os\n",
    "import pandas as pd\n",
    "\n",
    "def merge_excel(folder_name):\n",
    "    # Get the absolute path of the folder\n",
    "    path = os.path.abspath(folder_name)\n",
    "    \n",
    "    # List all files in the folder\n",
    "    files = [os.path.join(path, f) for f in os.listdir(path) if f.endswith('.xlsx') or f.endswith('.xls')]\n",
    "    \n",
    "    # Create an empty DataFrame\n",
    "    merged_data = pd.DataFrame()\n",
    "    \n",
    "    # Loop through all files and sheets\n",
    "    for file in files:\n",
    "        excel_file = pd.ExcelFile(file)\n",
    "        for sheet_name in excel_file.sheet_names:\n",
    "            df = excel_file.parse(sheet_name=sheet_name)\n",
    "            merged_data = pd.concat([merged_data, df], ignore_index=True)\n",
    "    \n",
    "    # Save the merged data as a new Excel file in the same folder\n",
    "    output_file = os.path.join(path, 'merged_output.xlsx')\n",
    "    merged_data.to_excel(output_file, index=False)\n",
    "    \n",
    "    print(f\"Merged data has been saved to: {output_file}\")\n",
    "    \n",
    "    return merged_data\n"
   ]
  },
  {
   "cell_type": "code",
   "execution_count": null,
   "metadata": {},
   "outputs": [
    {
     "name": "stdout",
     "output_type": "stream",
     "text": [
      "Current working directory: /Users/kamanddastmalchi/Documents/DSI-certificate/alltherep/ttc_streetcar_delays/notebooks\n"
     ]
    }
   ],
   "source": [
    "# Specify the folder path containing Excel files\n",
    "folder_path = os.getcwd() + '/data'\n",
    "print(\"Current working directory:\", folder_path)\n",
    "\n",
    "# # Call the function\n",
    "# merged_data = merge_excel(folder_path)\n",
    "\n",
    "# # Preview the first few rows of the merged data (optional)\n",
    "# print(merged_data.head())\n"
   ]
  }
 ],
 "metadata": {
  "kernelspec": {
   "display_name": "dsi_participant",
   "language": "python",
   "name": "python3"
  },
  "language_info": {
   "codemirror_mode": {
    "name": "ipython",
    "version": 3
   },
   "file_extension": ".py",
   "mimetype": "text/x-python",
   "name": "python",
   "nbconvert_exporter": "python",
   "pygments_lexer": "ipython3",
   "version": "3.9.19"
  }
 },
 "nbformat": 4,
 "nbformat_minor": 2
}
