{
 "cells": [
  {
   "cell_type": "code",
   "execution_count": 15,
   "metadata": {},
   "outputs": [],
   "source": [
    "import pandas as pd\n",
    "import numpy as np\n",
    "import matplotlib.pyplot as plt\n",
    "import seaborn as sns"
   ]
  },
  {
   "cell_type": "code",
   "execution_count": 16,
   "metadata": {},
   "outputs": [],
   "source": [
    "df = pd.read_csv('../data/data_cleaned.csv', dtype={'route': str}, low_memory=False)"
   ]
  },
  {
   "cell_type": "code",
   "execution_count": 17,
   "metadata": {},
   "outputs": [],
   "source": [
    "# Convert 'dt' column to datetime\n",
    "df['dt'] = pd.to_datetime(df['dt'])\n",
    "\n",
    "# Define a mapping for merging the values within the 'incident' column\n",
    "merge_mapping = {\n",
    "    'Late Leaving Garage': 'Late',\n",
    "    'Late': 'Late',\n",
    "    'e': 'Late',\n",
    "    'Late  ': 'Late',\n",
    "    'Late Entering Service': 'Late',\n",
    "    'Overhead - Pantograph': 'Overhead',\n",
    "    'Overhead': 'Overhead',\n",
    "    'Cleaning': 'Cleaning',\n",
    "    'Cleaning - Unsanitary': 'Cleaning',\n",
    "    'Cleaning - Disinfection': 'Cleaning'\n",
    "}\n",
    "\n",
    "# Apply the mapping to the 'incident' column\n",
    "df['incident'] = df['incident'].replace(merge_mapping)"
   ]
  },
  {
   "cell_type": "markdown",
   "metadata": {},
   "source": [
    "# 1. Descriptive Analysis"
   ]
  },
  {
   "cell_type": "markdown",
   "metadata": {},
   "source": [
    "**A) Analyzing Delay Frequency and Duration by Route, Location, and Time**  \n",
    "\n",
    "- **Delay Frequency and Duration by Route**  \n",
    "The analysis of delay frequency and duration by route reveals that the 501 route has the highest number of incidents, with 35,885 occurrences, leading to an average delay of approximately 13.37 minutes per incident. This suggests that this route may be facing significant operational challenges that require attention. Similarly, the 504 route follows closely with 26,526 incidents and an average delay of 12.57 minutes. The data indicates that routes like 506 and 505 also experience notable delays, highlighting a pattern where certain routes consistently face more disruptions than others.\n",
    "\n",
    "- **Delay Frequency and Duration by Location**  \n",
    "When examining the delay frequency and duration by location, \"Dundas West Station\" emerges as the location with the highest incident count at 3,121, averaging a delay of about 9.12 minutes. This indicates that passengers at this station may frequently experience delays, warranting further investigation into potential causes such as high traffic or operational inefficiencies. Other locations like \"Broadview Station\" and \"Spadina Station\" also show significant incident counts, suggesting that these areas may need enhanced monitoring or maintenance efforts to reduce delays.\n",
    "\n",
    "- **Delay Frequency and Duration by Day of the Week**  \n",
    "The analysis of delay frequency by day of the week shows that Fridays have the highest number of incidents at 22,550, with an average delay of approximately 13.04 minutes. This trend suggests that the end of the workweek may see increased ridership or operational pressures, leading to more incidents. Interestingly, Sundays have the highest average delay duration at 16.11 minutes, despite having fewer incidents overall (16,363). This could indicate that when incidents do occur on Sundays, they tend to be more severe or disruptive or less manpower or operational capacity to manage such incidents."
   ]
  },
  {
   "cell_type": "code",
   "execution_count": 18,
   "metadata": {},
   "outputs": [
    {
     "name": "stdout",
     "output_type": "stream",
     "text": [
      "Delay Frequency and Duration by Route:\n",
      "                       count       mean       sum\n",
      "route                                            \n",
      "501                    35885  13.372607  479876.0\n",
      "504                    26526  12.572721  333504.0\n",
      "506                    19161  14.745681  282542.0\n",
      "505                    16817  13.830885  232594.0\n",
      "510                    11309  12.064374  136436.0\n",
      "...                      ...        ...       ...\n",
      "503 KINGSTON ROAD (60      1  33.000000      33.0\n",
      "5014                       1   0.000000       0.0\n",
      "501 QUEEN, ( 600           1  10.000000      10.0\n",
      "5004                       1  10.000000      10.0\n",
      "YU                         1   0.000000       0.0\n",
      "\n",
      "[162 rows x 3 columns]\n",
      "\n",
      "Delay Frequency and Duration by Location:\n",
      "                                     count      mean      sum\n",
      "location                                                     \n",
      "dundas west station                   3121  9.124319  28477.0\n",
      "broadview station                     2288  8.414336  19252.0\n",
      "spadina station                       1739  9.328925  16223.0\n",
      "roncesvalles yard                     1716  6.475524  11112.0\n",
      "russell yard                          1700  6.594706  11211.0\n",
      "...                                    ...       ...      ...\n",
      "howardparkroncy                          1  8.000000      8.0\n",
      "howord park and roncesvalles             1  5.000000      5.0\n",
      "howrad park and roncesvalles avenue      1  4.000000      4.0\n",
      "howsrd park and indian rd                1  6.000000      6.0\n",
      "yoyoma                                   1  4.000000      4.0\n",
      "\n",
      "[17286 rows x 3 columns]\n",
      "\n",
      "Delay Frequency and Duration by Day of the Week:\n",
      "           count       mean       sum\n",
      "day                                  \n",
      "Friday     22550  13.037428  293994.0\n",
      "Thursday   22230  13.237562  294271.0\n",
      "Wednesday  21870  13.162140  287856.0\n",
      "Tuesday    21422  13.172626  282184.0\n",
      "Monday     20379  12.965602  264226.0\n",
      "Saturday   19154  13.994309  268047.0\n",
      "Sunday     16363  16.114099  263675.0\n"
     ]
    }
   ],
   "source": [
    "# Delay Frequency by Route\n",
    "delay_by_route = df.groupby('route')['delay'].agg(['count', 'mean', 'sum']).sort_values(by='count', ascending=False)\n",
    "print(\"Delay Frequency and Duration by Route:\")\n",
    "print(delay_by_route)\n",
    "\n",
    "# Delay Frequency by Location\n",
    "delay_by_location = df.groupby('location')['delay'].agg(['count', 'mean', 'sum']).sort_values(by='count', ascending=False)\n",
    "print(\"\\nDelay Frequency and Duration by Location:\")\n",
    "print(delay_by_location)\n",
    "\n",
    "# Delay Frequency by Day of the Week\n",
    "delay_by_day = df.groupby('day')['delay'].agg(['count', 'mean', 'sum']).sort_values(by='count', ascending=False)\n",
    "print(\"\\nDelay Frequency and Duration by Day of the Week:\")\n",
    "print(delay_by_day)"
   ]
  },
  {
   "cell_type": "markdown",
   "metadata": {},
   "source": [
    "**B) Incident Types and Their Impact on Delays**    \n",
    "\n",
    "- **Average Delay Duration by Incident Type**  \n",
    "The analysis of average delay durations by incident type reveals significant variations in how different incidents affect service. For instance, Diversions lead to the longest average delays at approximately 58.20 minutes, indicating that when routes are diverted, it tends to cause substantial disruptions. Similarly, Overhead issues result in an average delay of about 36.83 minutes, suggesting that these incidents also significantly impact service times.  \n",
    "\n",
    "- Other notable incidents include Held By (23.18 minutes) and Collision - TTC Involved (19.60 minutes), which also contribute to considerable delays. This highlights the need for focused strategies to manage these types of incidents effectively, as they can lead to longer wait times for passengers.\n",
    "\n",
    "- **Incident Counts by Type**  \n",
    "When examining the frequency of incidents, Mechanical issues are the most common, with a total of 46,155 occurrences. This indicates that mechanical problems are a frequent source of service disruptions and may require ongoing maintenance and preventive measures to reduce their occurrence."
   ]
  },
  {
   "cell_type": "code",
   "execution_count": 19,
   "metadata": {},
   "outputs": [
    {
     "name": "stdout",
     "output_type": "stream",
     "text": [
      "\n",
      "Average Delay Duration by Incident Type:\n",
      "incident\n",
      "Diversion                   58.204275\n",
      "Overhead                    36.827532\n",
      "Held By                     23.184488\n",
      "Collision - TTC Involved    19.599076\n",
      "Rail/Switches               17.794224\n",
      "Investigation               17.148324\n",
      "Emergency Services          15.351530\n",
      "General Delay               14.167921\n",
      "Security                    10.707938\n",
      "Operations                   9.193326\n",
      "Cleaning                     8.801361\n",
      "Mechanical                   8.439952\n",
      "Utilized Off Route           7.973744\n",
      "Management                   7.117647\n",
      "Late                         6.708726\n",
      "Name: delay, dtype: float64\n",
      "\n",
      "Incident Counts by Type:\n",
      "incident\n",
      "Mechanical                  46155\n",
      "Operations                  19299\n",
      "Held By                     13860\n",
      "Investigation               12648\n",
      "General Delay               11958\n",
      "Late                         8171\n",
      "Emergency Services           7712\n",
      "Security                     6009\n",
      "Cleaning                     5145\n",
      "Diversion                    4866\n",
      "Utilized Off Route           4837\n",
      "Collision - TTC Involved     2382\n",
      "Overhead                      632\n",
      "Rail/Switches                 277\n",
      "Management                     17\n",
      "Name: count, dtype: int64\n"
     ]
    }
   ],
   "source": [
    "# Average delay by incident type\n",
    "avg_delay_by_incident = df.groupby('incident')['delay'].mean().sort_values(ascending=False)\n",
    "print(\"\\nAverage Delay Duration by Incident Type:\")\n",
    "print(avg_delay_by_incident)\n",
    "\n",
    "# Count of incidents by type\n",
    "incident_counts = df['incident'].value_counts()\n",
    "print(\"\\nIncident Counts by Type:\")\n",
    "print(incident_counts)"
   ]
  },
  {
   "cell_type": "markdown",
   "metadata": {},
   "source": [
    "**C) Correlation Analysis**  \n",
    "\n",
    "Performed correlation analysis to understand the relationships between delay duration, gap time, and the day of the week.\n",
    "\n",
    "- **Delay and Gap Correlation (0.878747)**  \n",
    "There is a strong positive correlation (close to 0.88) between delay duration and gap time. This suggests that as the delay duration increases, the gap time also tends to increase. This means that when streetcars experience longer delays, they are likely to have larger gaps in service, leading to longer wait times for passengers.\n",
    "\n",
    "- **Delay and Day of Week Code Correlation (0.000138)**  \n",
    "The correlation between delay duration and the day of the week code is very weak (close to 0). This indicates that there is no significant relationship between the day of the week and how long delays last. In simpler terms, delays do not seem to be influenced by whether it is a weekday or weekend, suggesting that operational issues causing delays are consistent throughout the week.\n",
    "\n",
    "- **Gap and Day of Week Code Correlation (-0.003533)**  \n",
    "Similar to above, there is a weak negative correlation between gap time and the day of the week code. This means that gaps in service do not significantly vary based on the day of the week either. Essentially, passengers can expect similar experiences regarding service gaps regardless of whether it’s Monday or Sunday."
   ]
  },
  {
   "cell_type": "code",
   "execution_count": 20,
   "metadata": {},
   "outputs": [
    {
     "name": "stdout",
     "output_type": "stream",
     "text": [
      "                     delay       gap  day_of_week_code\n",
      "delay             1.000000  0.878747          0.000138\n",
      "gap               0.878747  1.000000         -0.003533\n",
      "day_of_week_code  0.000138 -0.003533          1.000000\n"
     ]
    },
    {
     "data": {
      "image/png": "[encoded data removed]",
      "text/plain": [
       "<Figure size 800x600 with 2 Axes>"
      ]
     },
     "metadata": {},
     "output_type": "display_data"
    }
   ],
   "source": [
    "# Create additional time-related columns\n",
    "df['hour'] = df['dt'].dt.hour\n",
    "df['day_of_week'] = df['dt'].dt.day_name()\n",
    "\n",
    "# Convert 'day_of_week' to categorical codes for correlation analysis (Monday: 0, Tuesday: 1, Wednesday: 2, Thursday: 3, Friday: 4, Saturday: 5, Sunday: 6)\n",
    "df['day_of_week_code'] = df['day_of_week'].astype('category').cat.codes\n",
    "\n",
    "# Select only relevant numeric columns for correlation\n",
    "correlation_data = df[['delay', 'gap', 'day_of_week_code']]\n",
    "\n",
    "# Calculate the correlation matrix\n",
    "correlation_matrix = correlation_data.corr()\n",
    "print(correlation_matrix)\n",
    "\n",
    "# Visualizing the correlation\n",
    "plt.figure(figsize=(8, 6))\n",
    "sns.heatmap(correlation_matrix, annot=True, cmap='coolwarm', fmt='.2f')\n",
    "plt.title('Correlation Matrix of Delay, Gap, and Day of Week')\n",
    "plt.show()"
   ]
  },
  {
   "cell_type": "markdown",
   "metadata": {},
   "source": [
    "# 2. Regressions Analysis"
   ]
  },
  {
   "cell_type": "markdown",
   "metadata": {},
   "source": [
    "Preparing and developing regression models, and evaluating their performance to understand:\n",
    "\n",
    "- What factors contribute most significantly to the duration of delays?\n",
    "- How well can we predict delay durations based on these factors?\n",
    "- Are there any specific incident types, routes, or times of day that are strong predictors of longer delays?"
   ]
  },
  {
   "cell_type": "code",
   "execution_count": 21,
   "metadata": {},
   "outputs": [
    {
     "name": "stdout",
     "output_type": "stream",
     "text": [
      "Mean Squared Error: 112.08240181902953\n",
      "R^2 Score: 0.8838505995520898\n",
      "                            OLS Regression Results                            \n",
      "==============================================================================\n",
      "Dep. Variable:                  delay   R-squared:                       0.772\n",
      "Model:                            OLS   Adj. R-squared:                  0.772\n",
      "Method:                 Least Squares   F-statistic:                 1.627e+05\n",
      "Date:                Fri, 06 Dec 2024   Prob (F-statistic):               0.00\n",
      "Time:                        17:22:37   Log-Likelihood:            -5.9925e+05\n",
      "No. Observations:              143968   AIC:                         1.199e+06\n",
      "Df Residuals:                  143964   BIC:                         1.199e+06\n",
      "Df Model:                           3                                         \n",
      "Covariance Type:            nonrobust                                         \n",
      "====================================================================================\n",
      "                       coef    std err          t      P>|t|      [0.025      0.975]\n",
      "------------------------------------------------------------------------------------\n",
      "const               -3.1290      0.113    -27.676      0.000      -3.351      -2.907\n",
      "gap                  0.8177      0.001    698.586      0.000       0.815       0.820\n",
      "hour                 0.0182      0.007      2.678      0.007       0.005       0.032\n",
      "day_of_week_code     0.0519      0.020      2.606      0.009       0.013       0.091\n",
      "==============================================================================\n",
      "Omnibus:                   507315.570   Durbin-Watson:                   1.929\n",
      "Prob(Omnibus):                  0.000   Jarque-Bera (JB):    1849251612961.917\n",
      "Skew:                         -68.233   Prob(JB):                         0.00\n",
      "Kurtosis:                   17560.292   Cond. No.                         113.\n",
      "==============================================================================\n",
      "\n",
      "Notes:\n",
      "[1] Standard Errors assume that the covariance matrix of the errors is correctly specified.\n"
     ]
    }
   ],
   "source": [
    "from sklearn.model_selection import train_test_split\n",
    "from sklearn.linear_model import LinearRegression\n",
    "from sklearn.metrics import mean_squared_error, r2_score\n",
    "import statsmodels.api as sm\n",
    "\n",
    "# Select relevant features for the model\n",
    "# Including delay as target variable and gap, hour, day_of_week_code as predictors\n",
    "X = df[['gap', 'hour', 'day_of_week_code']]\n",
    "y = df['delay']\n",
    "\n",
    "# Split the data into training and testing sets\n",
    "X_train, X_test, y_train, y_test = train_test_split(X, y, test_size=0.2, random_state=42)\n",
    "\n",
    "# Create a linear regression model\n",
    "model = LinearRegression()\n",
    "model.fit(X_train, y_train)\n",
    "\n",
    "# Make predictions on the test set\n",
    "y_pred = model.predict(X_test)\n",
    "\n",
    "# Evaluate model performance\n",
    "mse = mean_squared_error(y_test, y_pred)\n",
    "r2 = r2_score(y_test, y_pred)\n",
    "\n",
    "print(f'Mean Squared Error: {mse}')\n",
    "print(f'R^2 Score: {r2}')\n",
    "\n",
    "# Detailed summary using statsmodels for insights on predictors\n",
    "X_with_constant = sm.add_constant(X)\n",
    "model_sm = sm.OLS(y, X_with_constant).fit()\n",
    "print(model_sm.summary())"
   ]
  },
  {
   "cell_type": "markdown",
   "metadata": {},
   "source": [
    "**Analysis Findings and Summary**  \n",
    "\n",
    "The results of the regression analysis has offered some valuable insights into the factors influencing delay durations in the TTC streetcar system.  \n",
    "\n",
    "**1. What factors contribute most significantly to the duration of delays?**  \n",
    "\n",
    "The regression results indicate that gap time is the most significant predictor of delay duration, with a coefficient of approximately 0.82. This means that for every additional minute of gap time, the delay duration increases by about 0.82 minutes. Additionally, both hour of the day and day of the week also contribute to delays, albeit to a lesser extent.\n",
    "\n",
    "**2. How well can we predict delay durations based on these factors?**  \n",
    "\n",
    "The model's R-squared score is approximately 0.88, indicating that about 88% of the variability in delay durations can be explained by the model's predictors. The model demonstrates a strong ability to predict delay durations based on gap time, hour, and day of the week. The Mean Squared Error (MSE) is around 112.08, which provides a measure of prediction accuracy. The relatively high R-squared value suggests that the model is effective in capturing key patterns in the data.\n",
    "\n",
    "**3. Are there any specific incident types, routes, or times of day that are strong predictors of longer delays?**  \n",
    "\n",
    "While the regression analysis primarily focused on gap time, hour, and day of the week, it did not include incident types or routes directly in this specific model. However, it indicates that time-related factors (hour and day) do have some influence on delays.  \n",
    "\n",
    "Although incident types and routes were not explicitly analyzed in this regression model, they could be incorporated into future models to further explore their impact on delays."
   ]
  }
 ],
 "metadata": {
  "kernelspec": {
   "display_name": "dsi_participant",
   "language": "python",
   "name": "python3"
  },
  "language_info": {
   "codemirror_mode": {
    "name": "ipython",
    "version": 3
   },
   "file_extension": ".py",
   "mimetype": "text/x-python",
   "name": "python",
   "nbconvert_exporter": "python",
   "pygments_lexer": "ipython3",
   "version": "3.9.19"
  }
 },
 "nbformat": 4,
 "nbformat_minor": 2
}
