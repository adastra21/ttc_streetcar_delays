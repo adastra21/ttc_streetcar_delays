{
 "cells": [
  {
   "cell_type": "code",
   "execution_count": 1,
   "metadata": {},
   "outputs": [],
   "source": [
    "import os\n",
    "import os.path as op\n",
    "\n",
    "import numpy as np\n",
    "import pandas as pd"
   ]
  },
  {
   "cell_type": "code",
   "execution_count": 2,
   "metadata": {},
   "outputs": [],
   "source": [
    "def merge_files(directory='data', extension='xlsx'):\n",
    "    \n",
    "    excel_formats = ['xlsx', 'xls']\n",
    "    \n",
    "    path = os.path.join(os.path.dirname(os.getcwd()), directory)\n",
    "    file_list = [op.join(path,file) for file in os.listdir(path) if file.endswith(extension)]\n",
    "    file_list.sort()\n",
    "    \n",
    "    df_total = pd.DataFrame()\n",
    "    \n",
    "    if extension in excel_formats:\n",
    "        print('Excel format detected')\n",
    "        for file in file_list:\n",
    "            print('Processing %s' %file.split('/')[-1])\n",
    "            excel_file = pd.ExcelFile(file)\n",
    "            sheets = excel_file.sheet_names\n",
    "            for sheet in sheets:\n",
    "                # print('Processing %s' %sheet)\n",
    "                df = excel_file.parse(sheet_name = sheet, na_values='')\n",
    "                df_total = pd.concat([df_total,df])\n",
    "                print(df_total.shape)\n",
    "        \n",
    "    else:\n",
    "        print('Not valid format')\n",
    "        \n",
    "    df_total.to_csv(path+'/data_merged.csv', index=None)"
   ]
  },
  {
   "cell_type": "code",
   "execution_count": 3,
   "metadata": {
    "scrolled": true
   },
   "outputs": [],
   "source": [
    "# default works for ttc streetcar delay dataset\n",
    "# merge_files()"
   ]
  }
 ],
 "metadata": {
  "kernelspec": {
   "display_name": "Python 3 (ipykernel)",
   "language": "python",
   "name": "python3"
  },
  "language_info": {
   "codemirror_mode": {
    "name": "ipython",
    "version": 3
   },
   "file_extension": ".py",
   "mimetype": "text/x-python",
   "name": "python",
   "nbconvert_exporter": "python",
   "pygments_lexer": "ipython3",
   "version": "3.9.13"
  }
 },
 "nbformat": 4,
 "nbformat_minor": 2
}
